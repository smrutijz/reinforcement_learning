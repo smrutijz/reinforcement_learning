{
 "cells": [
  {
   "cell_type": "markdown",
   "metadata": {},
   "source": [
    "##### Libraries\n",
    "First we’re importing all the libraries we’ll be using. Not many, really... Numpy, gym & random"
   ]
  },
  {
   "cell_type": "code",
   "execution_count": 1,
   "metadata": {},
   "outputs": [
    {
     "name": "stderr",
     "output_type": "stream",
     "text": [
      "c:\\users\\smrut\\appdata\\local\\programs\\python\\python37\\lib\\site-packages\\numpy\\_distributor_init.py:32: UserWarning: loaded more than 1 DLL from .libs:\n",
      "c:\\users\\smrut\\appdata\\local\\programs\\python\\python37\\lib\\site-packages\\numpy\\.libs\\libopenblas.IPBC74C7KURV7CB2PKT5Z5FNR3SIBV4J.gfortran-win_amd64.dll\n",
      "c:\\users\\smrut\\appdata\\local\\programs\\python\\python37\\lib\\site-packages\\numpy\\.libs\\libopenblas.TXA6YQSD3GCQQC22GEQ54J2UDCXDXHWN.gfortran-win_amd64.dll\n",
      "  stacklevel=1)\n"
     ]
    }
   ],
   "source": [
    "import numpy as np\n",
    "import pandas as pd\n",
    "import gym\n",
    "import random\n",
    "from matplotlib import pyplot as plt"
   ]
  },
  {
   "cell_type": "markdown",
   "metadata": {},
   "source": [
    "##### Creating the environment\n",
    "Next, to create our environment, we just call gym.make() and pass a string of the name of the environment we want to set up. We'll be using the environment FrozenLake-v0. All the environments with their corresponding names you can use here are available on [Gym’s website](https://gym.openai.com/envs/#classic_control)."
   ]
  },
  {
   "cell_type": "code",
   "execution_count": 2,
   "metadata": {},
   "outputs": [],
   "source": [
    "env = gym.make(\"FrozenLake-v0\")"
   ]
  },
  {
   "cell_type": "markdown",
   "metadata": {},
   "source": [
    "##### Creating the Q-table\n",
    "We’re now going to construct our Q-table, and initialize all the Q-values to zero for each state-action pair.\n",
    "\n",
    "Remember, the number of rows in the table is equivalent to the size of the state space in the environment, and the number of columns is equivalent to the size of the action space. We can get this information using using env.observation_space.n and env.action_space.n, as shown below. We can then use this information to build the Q-table and fill it with zeros."
   ]
  },
  {
   "cell_type": "code",
   "execution_count": 3,
   "metadata": {},
   "outputs": [],
   "source": [
    "action_space_size = env.action_space.n\n",
    "state_space_size = env.observation_space.n\n",
    "\n",
    "q_table = np.zeros((state_space_size, action_space_size))"
   ]
  },
  {
   "cell_type": "markdown",
   "metadata": {},
   "source": [
    "If you're foggy about Q-tables at all, be sure to check out the earlier post where we covered all the details you need for Q-tables.\n",
    "\n",
    "Alright, here’s our Q-table!"
   ]
  },
  {
   "cell_type": "code",
   "execution_count": 4,
   "metadata": {},
   "outputs": [
    {
     "name": "stdout",
     "output_type": "stream",
     "text": [
      "[[0. 0. 0. 0.]\n",
      " [0. 0. 0. 0.]\n",
      " [0. 0. 0. 0.]\n",
      " [0. 0. 0. 0.]\n",
      " [0. 0. 0. 0.]\n",
      " [0. 0. 0. 0.]\n",
      " [0. 0. 0. 0.]\n",
      " [0. 0. 0. 0.]\n",
      " [0. 0. 0. 0.]\n",
      " [0. 0. 0. 0.]\n",
      " [0. 0. 0. 0.]\n",
      " [0. 0. 0. 0.]\n",
      " [0. 0. 0. 0.]\n",
      " [0. 0. 0. 0.]\n",
      " [0. 0. 0. 0.]\n",
      " [0. 0. 0. 0.]]\n"
     ]
    }
   ],
   "source": [
    "print(q_table)"
   ]
  },
  {
   "cell_type": "markdown",
   "metadata": {},
   "source": [
    "##### Initializing Q-learning parameters\n",
    "Now, we’re going to create and initialize all the parameters needed to implement the Q-learning algorithm."
   ]
  },
  {
   "cell_type": "code",
   "execution_count": 5,
   "metadata": {},
   "outputs": [],
   "source": [
    "num_episodes = 100000\n",
    "max_steps_per_episode = 100\n",
    "\n",
    "learning_rate = 0.01\n",
    "discount_rate = 0.90\n",
    "\n",
    "exploration_rate = 1\n",
    "max_exploration_rate = 1\n",
    "min_exploration_rate = 0.01\n",
    "exploration_decay_rate = 0.001"
   ]
  },
  {
   "cell_type": "markdown",
   "metadata": {},
   "source": [
    "Let's step through each of these.\n",
    "\n",
    "First, with num_episodes, we define the total number of episodes we want the agent to play during training. Then, with max_steps_per_episode, we define a maximum number of steps that our agent is allowed to take within a single episode. So, if by the one-hundredth step, the agent hasn’t reached the frisbee or fallen through a hole, then the episode will terminate with the agent receiving zero points.\n",
    "\n",
    "Next, we set our learning_rate, which was mathematically shown using the symbol \n",
    "α\n",
    " in the previous post. Then, we also set our discount_rate, as well, which was represented with the symbol \n",
    "γ\n",
    " previously.\n",
    " \n",
    " Now, the last four parameters are all for related to the exploration-exploitation trade-off we talked about last time in regards to the epsilon-greedy policy. We’re initializing our exploration_rate to 1 and setting the max_exploration_rate to 1 and a min_exploration_rate to 0.01. The max and min are just bounds to how large or small our exploration rate can be. Remember, the exploration rate was represented with the symbol \n",
    "ϵ\n",
    " when we discussed it previously.\n",
    "\n",
    "Lastly, we set the exploration_decay_rate to 0.01 to determine the rate at which the exploration_rate will decay."
   ]
  },
  {
   "cell_type": "markdown",
   "metadata": {},
   "source": [
    "##### Coding the Q-learning algorithm training loop\n",
    "Let’s start from the top.\n",
    "\n",
    "First, we create this list to hold all of the rewards we’ll get from each episode. This will be so we can see how our game score changes over time. We’ll discuss this more in a bit"
   ]
  },
  {
   "cell_type": "code",
   "execution_count": 6,
   "metadata": {},
   "outputs": [],
   "source": [
    "rewards_all_episodes = []"
   ]
  },
  {
   "attachments": {
    "image.png": {
     "image/png": "[encoded data removed]"
    }
   },
   "cell_type": "markdown",
   "metadata": {},
   "source": [
    "In the following block of code, we’ll implement the entire Q-learning algorithm we discussed in detail in a couple posts back. When this code is executed, this is exactly where the training will take place. This first for-loop contains everything that happens within a single episode. This second nested loop contains everything that happens for a single time-step.\n",
    "\n",
    "![image.png](attachment:image.png)"
   ]
  },
  {
   "cell_type": "code",
   "execution_count": 7,
   "metadata": {},
   "outputs": [
    {
     "name": "stdout",
     "output_type": "stream",
     "text": [
      "********Average reward per thousand episodes********\n",
      "\n",
      "1000 :  0.022000000000000013\n",
      "2000 :  0.06100000000000005\n",
      "3000 :  0.05300000000000004\n",
      "4000 :  0.06100000000000005\n",
      "5000 :  0.06100000000000005\n",
      "6000 :  0.059000000000000045\n",
      "7000 :  0.06600000000000004\n",
      "8000 :  0.060000000000000046\n",
      "9000 :  0.06500000000000004\n",
      "10000 :  0.06400000000000004\n",
      "11000 :  0.05200000000000004\n",
      "12000 :  0.07300000000000005\n",
      "13000 :  0.05500000000000004\n",
      "14000 :  0.07100000000000005\n",
      "15000 :  0.06800000000000005\n",
      "16000 :  0.058000000000000045\n",
      "17000 :  0.05500000000000004\n",
      "18000 :  0.06600000000000004\n",
      "19000 :  0.07100000000000005\n",
      "20000 :  0.057000000000000044\n",
      "21000 :  0.058000000000000045\n",
      "22000 :  0.05400000000000004\n",
      "23000 :  0.06200000000000005\n",
      "24000 :  0.06300000000000004\n",
      "25000 :  0.06200000000000005\n",
      "26000 :  0.058000000000000045\n",
      "27000 :  0.05100000000000004\n",
      "28000 :  0.06400000000000004\n",
      "29000 :  0.06400000000000004\n",
      "30000 :  0.059000000000000045\n",
      "31000 :  0.06600000000000004\n",
      "32000 :  0.06600000000000004\n",
      "33000 :  0.060000000000000046\n",
      "34000 :  0.08300000000000006\n",
      "35000 :  0.07300000000000005\n",
      "36000 :  0.07600000000000005\n",
      "37000 :  0.23200000000000018\n",
      "38000 :  0.2430000000000002\n",
      "39000 :  0.2470000000000002\n",
      "40000 :  0.2450000000000002\n",
      "41000 :  0.23900000000000018\n",
      "42000 :  0.23900000000000018\n",
      "43000 :  0.22900000000000018\n",
      "44000 :  0.2480000000000002\n",
      "45000 :  0.22800000000000017\n",
      "46000 :  0.23600000000000018\n",
      "47000 :  0.25500000000000017\n",
      "48000 :  0.2430000000000002\n",
      "49000 :  0.24000000000000019\n",
      "50000 :  0.22500000000000017\n",
      "51000 :  0.22600000000000017\n",
      "52000 :  0.22000000000000017\n",
      "53000 :  0.22900000000000018\n",
      "54000 :  0.25300000000000017\n",
      "55000 :  0.23000000000000018\n",
      "56000 :  0.23200000000000018\n",
      "57000 :  0.23400000000000018\n",
      "58000 :  0.2580000000000002\n",
      "59000 :  0.23000000000000018\n",
      "60000 :  0.22400000000000017\n",
      "61000 :  0.2490000000000002\n",
      "62000 :  0.23800000000000018\n",
      "63000 :  0.4270000000000003\n",
      "64000 :  0.45200000000000035\n",
      "65000 :  0.45800000000000035\n",
      "66000 :  0.43500000000000033\n",
      "67000 :  0.47000000000000036\n",
      "68000 :  0.45400000000000035\n",
      "69000 :  0.44100000000000034\n",
      "70000 :  0.47100000000000036\n",
      "71000 :  0.45000000000000034\n",
      "72000 :  0.46900000000000036\n",
      "73000 :  0.44800000000000034\n",
      "74000 :  0.46400000000000036\n",
      "75000 :  0.47400000000000037\n",
      "76000 :  0.47300000000000036\n",
      "77000 :  0.5560000000000004\n",
      "78000 :  0.5650000000000004\n",
      "79000 :  0.5450000000000004\n",
      "80000 :  0.5470000000000004\n",
      "81000 :  0.5490000000000004\n",
      "82000 :  0.5470000000000004\n",
      "83000 :  0.5770000000000004\n",
      "84000 :  0.5580000000000004\n",
      "85000 :  0.5730000000000004\n",
      "86000 :  0.5490000000000004\n",
      "87000 :  0.5550000000000004\n",
      "88000 :  0.5560000000000004\n",
      "89000 :  0.5560000000000004\n",
      "90000 :  0.6120000000000004\n",
      "91000 :  0.6430000000000005\n",
      "92000 :  0.6250000000000004\n",
      "93000 :  0.6480000000000005\n",
      "94000 :  0.6360000000000005\n",
      "95000 :  0.6490000000000005\n",
      "96000 :  0.6580000000000005\n",
      "97000 :  0.6510000000000005\n",
      "98000 :  0.6520000000000005\n",
      "99000 :  0.6460000000000005\n",
      "100000 :  0.6500000000000005\n"
     ]
    },
    {
     "data": {
      "image/png": "[encoded data removed]",
      "text/plain": [
       "<Figure size 640x480 with 1 Axes>"
      ]
     },
     "metadata": {},
     "output_type": "display_data"
    }
   ],
   "source": [
    "# Q-learning algorithm\n",
    "for episode in range(num_episodes):\n",
    "    # initialize new episode params\n",
    "    state = env.reset()\n",
    "    done = False\n",
    "    rewards_current_episode = 0\n",
    "    for step in range(max_steps_per_episode):\n",
    "        # Exploration-exploitation trade-off\n",
    "        exploration_rate_threshold = random.uniform(0, 1)\n",
    "        if exploration_rate_threshold > exploration_rate:\n",
    "            action = np.argmax(q_table[state,:])\n",
    "        else:\n",
    "            action = env.action_space.sample()\n",
    "        # Take new action\n",
    "        new_state, reward, done, info = env.step(action)\n",
    "        # Update Q-table\n",
    "        q_table[state, action] = q_table[state, action] * (1 - learning_rate) + \\\n",
    "        learning_rate * (reward + discount_rate * np.max(q_table[new_state, :]))\n",
    "        # Set new state\n",
    "        state = new_state\n",
    "        # Add new reward\n",
    "        rewards_current_episode += reward\n",
    "        if done == True: \n",
    "            break\n",
    "\n",
    "    # Exploration rate decay\n",
    "    exploration_rate = min_exploration_rate + \\\n",
    "    (max_exploration_rate - min_exploration_rate) * np.exp(-exploration_decay_rate * episode)\n",
    "    # Add current episode reward to total rewards list\n",
    "    rewards_all_episodes.append(rewards_current_episode)\n",
    "\n",
    "# Calculate and print the average reward per thousand episodes\n",
    "rewards_per_thosand_episodes = np.split(np.array(rewards_all_episodes),num_episodes/1000)\n",
    "count = 1000\n",
    "\n",
    "print(\"********Average reward per thousand episodes********\\n\")\n",
    "for r in rewards_per_thosand_episodes:\n",
    "    print(count, \": \", str(sum(r/1000)))\n",
    "    count += 1000\n",
    "\n",
    "# Ploting average reward per 1000 episode \n",
    "plt.figure(num=None, figsize=(8, 6), dpi=80, facecolor='w', edgecolor='k')\n",
    "plt.plot(np.array(rewards_per_thosand_episodes).sum(axis=1))\n",
    "plt.show()"
   ]
  },
  {
   "cell_type": "code",
   "execution_count": 8,
   "metadata": {},
   "outputs": [
    {
     "name": "stdout",
     "output_type": "stream",
     "text": [
      "\n",
      "\n",
      "********Q-table********\n",
      "\n",
      "[[0.06975784 0.05968359 0.05880841 0.0534772 ]\n",
      " [0.00654037 0.03947143 0.01089902 0.01278781]\n",
      " [0.03342469 0.02412508 0.05770289 0.01535915]\n",
      " [0.02593963 0.00615315 0.00371123 0.00865347]\n",
      " [0.09614268 0.07214286 0.06880469 0.04823377]\n",
      " [0.         0.         0.         0.        ]\n",
      " [0.10525693 0.03849915 0.04729458 0.00795693]\n",
      " [0.         0.         0.         0.        ]\n",
      " [0.0717684  0.11271372 0.09118796 0.15148042]\n",
      " [0.14541228 0.26603554 0.19169331 0.12504324]\n",
      " [0.3226555  0.22720191 0.18951676 0.08306473]\n",
      " [0.         0.         0.         0.        ]\n",
      " [0.         0.         0.         0.        ]\n",
      " [0.17482321 0.236028   0.38856152 0.18967019]\n",
      " [0.3437354  0.66429884 0.54931684 0.47933703]\n",
      " [0.         0.         0.         0.        ]]\n"
     ]
    }
   ],
   "source": [
    "# Print updated Q-table\n",
    "pd.DataFrame(q_table).to_csv(r\".\\q_table.csv\", header = None, index = None)\n",
    "print(\"\\n\\n********Q-table********\\n\")\n",
    "print(q_table)"
   ]
  }
 ],
 "metadata": {
  "kernelspec": {
   "display_name": "Python 3",
   "language": "python",
   "name": "python3"
  },
  "language_info": {
   "codemirror_mode": {
    "name": "ipython",
    "version": 3
   },
   "file_extension": ".py",
   "mimetype": "text/x-python",
   "name": "python",
   "nbconvert_exporter": "python",
   "pygments_lexer": "ipython3",
   "version": "3.7.1"
  }
 },
 "nbformat": 4,
 "nbformat_minor": 2
}
